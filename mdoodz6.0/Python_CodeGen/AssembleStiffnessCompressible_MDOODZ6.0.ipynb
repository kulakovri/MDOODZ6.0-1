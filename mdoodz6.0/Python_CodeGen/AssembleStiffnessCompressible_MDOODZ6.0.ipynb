{
 "cells": [
  {
   "cell_type": "code",
   "execution_count": 1,
   "metadata": {},
   "outputs": [
    {
     "name": "stdout",
     "output_type": "stream",
     "text": [
      "Txx = 2*eta*(0.666666666666667*Exx - 0.333333333333333*Ezz);\n",
      "Tzz = 2*eta*(-0.333333333333333*Exx + 0.666666666666667*Ezz);\n",
      "Txz = Gxz*eta;\n"
     ]
    }
   ],
   "source": [
    "from sympy import *\n",
    "import numpy as np \n",
    "init_printing()\n",
    "\n",
    "# Definitions\n",
    "eta, dx, dz = symbols( 'eta, dx, dz' )\n",
    "D11, D12, D13, D21, D22, D23 ,D31, D32, D33 = symbols('D11, D12, D13, D21, D22, D23 ,D31, D32, D33')\n",
    "Exx, Ezz, Gxz = symbols('Exx, Ezz, Gxz')\n",
    "stress_labels = ['Txx', 'Tzz', 'Txz']\n",
    "\n",
    "D11 = 2*eta; D12 = 0*eta; D13 = 0*eta;\n",
    "D21 = 0*eta; D22 = 2*eta; D23 = 0*eta;\n",
    "D31 = 0*eta; D32 = 0*eta; D33 = 1*eta;\n",
    "\n",
    "Dv = Matrix( [ [D11, D12, D13], [D21, D22, D23], [D31, D32, D33]  ] )\n",
    "div = Exx+Ezz\n",
    "Ed  = Matrix( [ [Exx-1/3*div], [Ezz-1/3*div], [Gxz] ] )\n",
    "T  = Dv*Ed;\n",
    "for i in range(len(stress_labels)):\n",
    "    print(stress_labels[i] + ' = ' + ccode( T[i]) + ';' )\n"
   ]
  },
  {
   "cell_type": "code",
   "execution_count": 3,
   "metadata": {},
   "outputs": [
    {
     "name": "stdout",
     "output_type": "stream",
     "text": [
      "uW = -1.33333333333333*etaW/pow(dx, 2);\n",
      "uC = -(-etaN/dz - etaS/dz)/dz - (-1.33333333333333*etaE/dx - 1.33333333333333*etaW/dx)/dx;\n",
      "uE = -1.33333333333333*etaE/pow(dx, 2);\n",
      "uS = -etaS/pow(dz, 2);\n",
      "uN = -etaN/pow(dz, 2);\n",
      "vSW = -etaS/(dx*dz) + 0.666666666666667*etaW/(dx*dz);\n",
      "vSE = -0.666666666666667*etaE/(dx*dz) + etaS/(dx*dz);\n",
      "vNW = etaN/(dx*dz) - 0.666666666666667*etaW/(dx*dz);\n",
      "vNE = 0.666666666666667*etaE/(dx*dz) - etaN/(dx*dz);\n"
     ]
    }
   ],
   "source": [
    "# Stencil x\n",
    "uW,uC,uE,uS,uN,vSW,vSE,vNW,vNE = symbols('uW,uC,uE,uS,uN,vSW,vSE,vNW,vNE')\n",
    "\n",
    "dofs = Matrix([uW,uC,uE,uS,uN,vSW,vSE,vNW,vNE])\n",
    "#----------------------------------------#\n",
    "divW = 1/dx*(uC-uW) + 1/dz*(vNW-vSW)\n",
    "ExxW = 1/dx*(uC-uW) - 1/3*divW;\n",
    "EzzW = 0;\n",
    "GxzW = 0\n",
    "EdW  = Matrix([[ExxW], [EzzW], [GxzW]])\n",
    "TW   = Dv*EdW\n",
    "TxxW = TW[0].subs(eta,'etaW')\n",
    "#TxxW = 2* etaW* ExxW\n",
    "#----------------------------------------#\n",
    "divE = 1/dx*(uE-uC) + 1/dz*(vNE-vSE)\n",
    "ExxE = 1/dx*(uE-uC) - 1/3*divE\n",
    "EzzE = 0;\n",
    "GxzE = 0\n",
    "EdE  = Matrix([[ExxE], [EzzE], [GxzE]])\n",
    "TE   = Dv*EdE\n",
    "TxxE = TE[0].subs(eta,'etaE')\n",
    "#----------------------------------------#\n",
    "ExxS = 0\n",
    "EzzS = 0\n",
    "GxzS = 1/dz*(uC-uS) + 1/dx*(vSE-vSW)\n",
    "EdS  = Matrix([[ExxS], [EzzS], [GxzS]])\n",
    "TS   = Dv*EdS\n",
    "TxzS = TS[2].subs(eta,'etaS')\n",
    "#----------------------------------------#\n",
    "ExxN = 0\n",
    "EzzN = 0\n",
    "GxzN = 1/dz*(uN-uC) + 1/dx*(vNE-vNW)\n",
    "EdN  = Matrix([[ExxN], [EzzN], [GxzN]])\n",
    "TN   = Dv*EdN\n",
    "TxzN = TN[2].subs(eta,'etaN')\n",
    "#----------------------------------------#\n",
    "Fx = 1/dx*(TxxE - TxxW) + 1/dz*(TxzN - TxzS)  \n",
    "Fx = -Fx\n",
    "for i in range(len(dofs)):\n",
    "    cUc = Fx.diff(dofs[i])\n",
    "    print(str(dofs[i]) + ' = ' +  ccode(cUc) + ';')"
   ]
  },
  {
   "cell_type": "code",
   "execution_count": 4,
   "metadata": {},
   "outputs": [
    {
     "name": "stdout",
     "output_type": "stream",
     "text": [
      "vW = -etaW/pow(dx, 2);\n",
      "vC = -(-1.33333333333333*etaN/dz - 1.33333333333333*etaS/dz)/dz - (-etaE/dx - etaW/dx)/dx;\n",
      "vE = -etaE/pow(dx, 2);\n",
      "vS = -1.33333333333333*etaS/pow(dz, 2);\n",
      "vN = -1.33333333333333*etaN/pow(dz, 2);\n",
      "uSW = 0.666666666666667*etaS/(dx*dz) - etaW/(dx*dz);\n",
      "uSE = etaE/(dx*dz) - 0.666666666666667*etaS/(dx*dz);\n",
      "uNW = -0.666666666666667*etaN/(dx*dz) + etaW/(dx*dz);\n",
      "uNE = -etaE/(dx*dz) + 0.666666666666667*etaN/(dx*dz);\n"
     ]
    }
   ],
   "source": [
    "# Stencil z\n",
    "vW,vC,vE,vS,vN,uSW,uSE,uNW,uNE = symbols('vW,vC,vE,vS,vN,uSW,uSE,uNW,uNE')\n",
    "dofs = Matrix([vW,vC,vE,vS,vN,uSW,uSE,uNW,uNE])\n",
    "#----------------------------------------#\n",
    "divS = 1/dz*(vC-vS) + 1/dx*(uSE-uSW)\n",
    "ExxS = 0\n",
    "EzzS = 1/dz*(vC-vS) - 1/3*divS;\n",
    "GxzS = 0\n",
    "EdS  = Matrix([[ExxS], [EzzS], [GxzS]])\n",
    "TS   = Dv*EdS\n",
    "TzzS = TS[1].subs(eta,'etaS')\n",
    "#----------------------------------------#\n",
    "divN = 1/dz*(vN-vC) + 1/dx*(uNE-uNW)\n",
    "ExxN = 0\n",
    "EzzN = 1/dz*(vN-vC)  - 1/3*divN;\n",
    "GxzN = 0\n",
    "EdN  = Matrix([[ExxN], [EzzN], [GxzN]])\n",
    "TN   = Dv*EdN\n",
    "TzzN = TN[1].subs(eta,'etaN')\n",
    "#----------------------------------------#\n",
    "ExxW = 0\n",
    "EzzW = 0\n",
    "GxzW = 1/dz*(uNW-uSW) + 1/dx*(vC-vW)\n",
    "EdW  = Matrix([[ExxW], [EzzW], [GxzW]])\n",
    "TW   = Dv*EdW\n",
    "TxzW = TW[2].subs(eta,'etaW')\n",
    "# #----------------------------------------#\n",
    "ExxE = 0\n",
    "EzzE = 0\n",
    "GxzE = 1/dz*(uNE-uSE) + 1/dx*(vE-vC)\n",
    "EdE  = Matrix([[ExxE], [EzzE], [GxzE]])\n",
    "TE   = Dv*EdE\n",
    "TxzE = TE[2].subs(eta,'etaE')\n",
    "#----------------------------------------#\n",
    "Fz = 1/dz*(TzzN - TzzS) + 1/dx*(TxzE - TxzW)  \n",
    "Fz = -Fz\n",
    "for i in range(9):\n",
    "    cVc = Fz.diff(dofs[i])\n",
    "    print(str(dofs[i]) + ' = ' +  ccode(cVc) + ';') #print(cUc)"
   ]
  },
  {
   "cell_type": "code",
   "execution_count": null,
   "metadata": {
    "collapsed": true
   },
   "outputs": [],
   "source": []
  }
 ],
 "metadata": {
  "kernelspec": {
   "display_name": "Python 3",
   "language": "python",
   "name": "python3"
  },
  "language_info": {
   "codemirror_mode": {
    "name": "ipython",
    "version": 3
   },
   "file_extension": ".py",
   "mimetype": "text/x-python",
   "name": "python",
   "nbconvert_exporter": "python",
   "pygments_lexer": "ipython3",
   "version": "3.6.3"
  }
 },
 "nbformat": 4,
 "nbformat_minor": 2
}
